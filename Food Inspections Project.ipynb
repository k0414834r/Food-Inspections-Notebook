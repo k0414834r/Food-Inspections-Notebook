{
 "cells": [
  {
   "cell_type": "code",
   "execution_count": 1,
   "metadata": {},
   "outputs": [],
   "source": [
    "import pandas as pd\n",
    "import numpy as np\n",
    "import re\n",
    "import nltk\n",
    "import matplotlib.pyplot as plt\n",
    "from collections import Counter, defaultdict\n",
    "%matplotlib inline"
   ]
  },
  {
   "cell_type": "code",
   "execution_count": 2,
   "metadata": {},
   "outputs": [],
   "source": [
    "food_inspections = pd.read_csv('Food_Inspections.csv')"
   ]
  },
  {
   "cell_type": "code",
   "execution_count": 3,
   "metadata": {},
   "outputs": [
    {
     "name": "stdout",
     "output_type": "stream",
     "text": [
      "<class 'pandas.core.frame.DataFrame'>\n",
      "RangeIndex: 163282 entries, 0 to 163281\n",
      "Data columns (total 17 columns):\n",
      "Inspection ID      163282 non-null int64\n",
      "DBA Name           163282 non-null object\n",
      "AKA Name           160823 non-null object\n",
      "License #          163267 non-null float64\n",
      "Facility Type      158630 non-null object\n",
      "Risk               163216 non-null object\n",
      "Address            163282 non-null object\n",
      "City               163138 non-null object\n",
      "State              163262 non-null object\n",
      "Zip                163211 non-null float64\n",
      "Inspection Date    163282 non-null object\n",
      "Inspection Type    163281 non-null object\n",
      "Results            163282 non-null object\n",
      "Violations         130333 non-null object\n",
      "Latitude           162711 non-null float64\n",
      "Longitude          162711 non-null float64\n",
      "Location           162711 non-null object\n",
      "dtypes: float64(4), int64(1), object(12)\n",
      "memory usage: 21.2+ MB\n"
     ]
    }
   ],
   "source": [
    "food_inspections.info()"
   ]
  },
  {
   "cell_type": "code",
   "execution_count": 4,
   "metadata": {},
   "outputs": [
    {
     "data": {
      "text/html": [
       "<div>\n",
       "<style scoped>\n",
       "    .dataframe tbody tr th:only-of-type {\n",
       "        vertical-align: middle;\n",
       "    }\n",
       "\n",
       "    .dataframe tbody tr th {\n",
       "        vertical-align: top;\n",
       "    }\n",
       "\n",
       "    .dataframe thead th {\n",
       "        text-align: right;\n",
       "    }\n",
       "</style>\n",
       "<table border=\"1\" class=\"dataframe\">\n",
       "  <thead>\n",
       "    <tr style=\"text-align: right;\">\n",
       "      <th></th>\n",
       "      <th>Inspection ID</th>\n",
       "      <th>DBA Name</th>\n",
       "      <th>AKA Name</th>\n",
       "      <th>License #</th>\n",
       "      <th>Facility Type</th>\n",
       "      <th>Risk</th>\n",
       "      <th>Address</th>\n",
       "      <th>City</th>\n",
       "      <th>State</th>\n",
       "      <th>Zip</th>\n",
       "      <th>Inspection Date</th>\n",
       "      <th>Inspection Type</th>\n",
       "      <th>Results</th>\n",
       "      <th>Violations</th>\n",
       "      <th>Latitude</th>\n",
       "      <th>Longitude</th>\n",
       "      <th>Location</th>\n",
       "    </tr>\n",
       "  </thead>\n",
       "  <tbody>\n",
       "    <tr>\n",
       "      <th>0</th>\n",
       "      <td>2130057</td>\n",
       "      <td>JENI'S SPLENDID ICE CREAMS</td>\n",
       "      <td>JENI'S SPLENDID ICE CREAMS</td>\n",
       "      <td>2574903.0</td>\n",
       "      <td>NaN</td>\n",
       "      <td>Risk 2 (Medium)</td>\n",
       "      <td>3657 N CLARK ST</td>\n",
       "      <td>CHICAGO</td>\n",
       "      <td>IL</td>\n",
       "      <td>60613.0</td>\n",
       "      <td>01/05/2018</td>\n",
       "      <td>License</td>\n",
       "      <td>Not Ready</td>\n",
       "      <td>NaN</td>\n",
       "      <td>41.948716</td>\n",
       "      <td>-87.657563</td>\n",
       "      <td>(41.94871604741052, -87.65756297881093)</td>\n",
       "    </tr>\n",
       "    <tr>\n",
       "      <th>1</th>\n",
       "      <td>2130049</td>\n",
       "      <td>JOE &amp; THE JUICE ILLINOIS, LLC</td>\n",
       "      <td>JOE &amp; THE JUICE</td>\n",
       "      <td>2564512.0</td>\n",
       "      <td>Restaurant</td>\n",
       "      <td>Risk 2 (Medium)</td>\n",
       "      <td>10 E DELAWARE PL</td>\n",
       "      <td>CHICAGO</td>\n",
       "      <td>IL</td>\n",
       "      <td>60611.0</td>\n",
       "      <td>01/05/2018</td>\n",
       "      <td>License</td>\n",
       "      <td>Pass</td>\n",
       "      <td>NaN</td>\n",
       "      <td>41.899255</td>\n",
       "      <td>-87.627835</td>\n",
       "      <td>(41.89925505559848, -87.62783463799146)</td>\n",
       "    </tr>\n",
       "    <tr>\n",
       "      <th>2</th>\n",
       "      <td>2130044</td>\n",
       "      <td>EL MARIACHI RESTAURANT</td>\n",
       "      <td>EL MARIACHI BAR &amp; GRILL</td>\n",
       "      <td>1574751.0</td>\n",
       "      <td>Restaurant</td>\n",
       "      <td>Risk 1 (High)</td>\n",
       "      <td>3906-3908 N BROADWAY</td>\n",
       "      <td>CHICAGO</td>\n",
       "      <td>IL</td>\n",
       "      <td>60613.0</td>\n",
       "      <td>01/05/2018</td>\n",
       "      <td>Complaint</td>\n",
       "      <td>Fail</td>\n",
       "      <td>6. HANDS WASHED AND CLEANED, GOOD HYGIENIC PRA...</td>\n",
       "      <td>41.953007</td>\n",
       "      <td>-87.649810</td>\n",
       "      <td>(41.95300691072745, -87.64981007663842)</td>\n",
       "    </tr>\n",
       "    <tr>\n",
       "      <th>3</th>\n",
       "      <td>2130038</td>\n",
       "      <td>SUBWAY</td>\n",
       "      <td>SUBWAY</td>\n",
       "      <td>2134794.0</td>\n",
       "      <td>Restaurant</td>\n",
       "      <td>Risk 1 (High)</td>\n",
       "      <td>6072-6074 N NORTHWEST HWY</td>\n",
       "      <td>CHICAGO</td>\n",
       "      <td>IL</td>\n",
       "      <td>60631.0</td>\n",
       "      <td>01/05/2018</td>\n",
       "      <td>Canvass</td>\n",
       "      <td>Pass</td>\n",
       "      <td>36. LIGHTING: REQUIRED MINIMUM FOOT-CANDLES OF...</td>\n",
       "      <td>41.991652</td>\n",
       "      <td>-87.798097</td>\n",
       "      <td>(41.99165185328709, -87.79809695431013)</td>\n",
       "    </tr>\n",
       "    <tr>\n",
       "      <th>4</th>\n",
       "      <td>2130022</td>\n",
       "      <td>BOO BAE TEA INC</td>\n",
       "      <td>BOO BAE TEA INC</td>\n",
       "      <td>2570290.0</td>\n",
       "      <td>NaN</td>\n",
       "      <td>Risk 2 (Medium)</td>\n",
       "      <td>1013 W Webster AVE</td>\n",
       "      <td>CHICAGO</td>\n",
       "      <td>IL</td>\n",
       "      <td>60614.0</td>\n",
       "      <td>01/05/2018</td>\n",
       "      <td>License</td>\n",
       "      <td>Not Ready</td>\n",
       "      <td>NaN</td>\n",
       "      <td>41.921620</td>\n",
       "      <td>-87.654051</td>\n",
       "      <td>(41.92161984057171, -87.65405058579164)</td>\n",
       "    </tr>\n",
       "  </tbody>\n",
       "</table>\n",
       "</div>"
      ],
      "text/plain": [
       "   Inspection ID                       DBA Name                    AKA Name  \\\n",
       "0        2130057     JENI'S SPLENDID ICE CREAMS  JENI'S SPLENDID ICE CREAMS   \n",
       "1        2130049  JOE & THE JUICE ILLINOIS, LLC             JOE & THE JUICE   \n",
       "2        2130044         EL MARIACHI RESTAURANT     EL MARIACHI BAR & GRILL   \n",
       "3        2130038                         SUBWAY                      SUBWAY   \n",
       "4        2130022                BOO BAE TEA INC             BOO BAE TEA INC   \n",
       "\n",
       "   License # Facility Type             Risk                     Address  \\\n",
       "0  2574903.0           NaN  Risk 2 (Medium)            3657 N CLARK ST    \n",
       "1  2564512.0    Restaurant  Risk 2 (Medium)           10 E DELAWARE PL    \n",
       "2  1574751.0    Restaurant    Risk 1 (High)       3906-3908 N BROADWAY    \n",
       "3  2134794.0    Restaurant    Risk 1 (High)  6072-6074 N NORTHWEST HWY    \n",
       "4  2570290.0           NaN  Risk 2 (Medium)         1013 W Webster AVE    \n",
       "\n",
       "      City State      Zip Inspection Date Inspection Type    Results  \\\n",
       "0  CHICAGO    IL  60613.0      01/05/2018         License  Not Ready   \n",
       "1  CHICAGO    IL  60611.0      01/05/2018         License       Pass   \n",
       "2  CHICAGO    IL  60613.0      01/05/2018       Complaint       Fail   \n",
       "3  CHICAGO    IL  60631.0      01/05/2018         Canvass       Pass   \n",
       "4  CHICAGO    IL  60614.0      01/05/2018         License  Not Ready   \n",
       "\n",
       "                                          Violations   Latitude  Longitude  \\\n",
       "0                                                NaN  41.948716 -87.657563   \n",
       "1                                                NaN  41.899255 -87.627835   \n",
       "2  6. HANDS WASHED AND CLEANED, GOOD HYGIENIC PRA...  41.953007 -87.649810   \n",
       "3  36. LIGHTING: REQUIRED MINIMUM FOOT-CANDLES OF...  41.991652 -87.798097   \n",
       "4                                                NaN  41.921620 -87.654051   \n",
       "\n",
       "                                  Location  \n",
       "0  (41.94871604741052, -87.65756297881093)  \n",
       "1  (41.89925505559848, -87.62783463799146)  \n",
       "2  (41.95300691072745, -87.64981007663842)  \n",
       "3  (41.99165185328709, -87.79809695431013)  \n",
       "4  (41.92161984057171, -87.65405058579164)  "
      ]
     },
     "execution_count": 4,
     "metadata": {},
     "output_type": "execute_result"
    }
   ],
   "source": [
    "food_inspections.head()"
   ]
  },
  {
   "cell_type": "code",
   "execution_count": 5,
   "metadata": {},
   "outputs": [
    {
     "data": {
      "text/html": [
       "<div>\n",
       "<style scoped>\n",
       "    .dataframe tbody tr th:only-of-type {\n",
       "        vertical-align: middle;\n",
       "    }\n",
       "\n",
       "    .dataframe tbody tr th {\n",
       "        vertical-align: top;\n",
       "    }\n",
       "\n",
       "    .dataframe thead th {\n",
       "        text-align: right;\n",
       "    }\n",
       "</style>\n",
       "<table border=\"1\" class=\"dataframe\">\n",
       "  <thead>\n",
       "    <tr style=\"text-align: right;\">\n",
       "      <th></th>\n",
       "      <th>Inspection ID</th>\n",
       "      <th>DBA Name</th>\n",
       "      <th>AKA Name</th>\n",
       "      <th>License #</th>\n",
       "      <th>Facility Type</th>\n",
       "      <th>Risk</th>\n",
       "      <th>Address</th>\n",
       "      <th>City</th>\n",
       "      <th>State</th>\n",
       "      <th>Zip</th>\n",
       "      <th>Inspection Date</th>\n",
       "      <th>Inspection Type</th>\n",
       "      <th>Results</th>\n",
       "      <th>Violations</th>\n",
       "      <th>Latitude</th>\n",
       "      <th>Longitude</th>\n",
       "      <th>Location</th>\n",
       "    </tr>\n",
       "  </thead>\n",
       "  <tbody>\n",
       "    <tr>\n",
       "      <th>2</th>\n",
       "      <td>2130044</td>\n",
       "      <td>EL MARIACHI RESTAURANT</td>\n",
       "      <td>EL MARIACHI BAR &amp; GRILL</td>\n",
       "      <td>1574751.0</td>\n",
       "      <td>Restaurant</td>\n",
       "      <td>Risk 1 (High)</td>\n",
       "      <td>3906-3908 N BROADWAY</td>\n",
       "      <td>CHICAGO</td>\n",
       "      <td>IL</td>\n",
       "      <td>60613.0</td>\n",
       "      <td>01/05/2018</td>\n",
       "      <td>Complaint</td>\n",
       "      <td>Fail</td>\n",
       "      <td>6. HANDS WASHED AND CLEANED, GOOD HYGIENIC PRA...</td>\n",
       "      <td>41.953007</td>\n",
       "      <td>-87.649810</td>\n",
       "      <td>(41.95300691072745, -87.64981007663842)</td>\n",
       "    </tr>\n",
       "    <tr>\n",
       "      <th>6</th>\n",
       "      <td>2130018</td>\n",
       "      <td>FRESHII</td>\n",
       "      <td>FRESHII</td>\n",
       "      <td>2446395.0</td>\n",
       "      <td>Restaurant</td>\n",
       "      <td>Risk 1 (High)</td>\n",
       "      <td>1166 W MADISON ST</td>\n",
       "      <td>CHICAGO</td>\n",
       "      <td>IL</td>\n",
       "      <td>60607.0</td>\n",
       "      <td>01/05/2018</td>\n",
       "      <td>Canvass</td>\n",
       "      <td>Fail</td>\n",
       "      <td>9. WATER SOURCE: SAFE, HOT &amp; COLD UNDER CITY P...</td>\n",
       "      <td>41.881731</td>\n",
       "      <td>-87.656851</td>\n",
       "      <td>(41.881731324473414, -87.65685079354886)</td>\n",
       "    </tr>\n",
       "    <tr>\n",
       "      <th>8</th>\n",
       "      <td>2129975</td>\n",
       "      <td>Panino's Pizzeria</td>\n",
       "      <td>Panino's Pizzeria</td>\n",
       "      <td>1517789.0</td>\n",
       "      <td>Restaurant</td>\n",
       "      <td>Risk 1 (High)</td>\n",
       "      <td>3702-3704 N BROADWAY</td>\n",
       "      <td>CHICAGO</td>\n",
       "      <td>IL</td>\n",
       "      <td>60613.0</td>\n",
       "      <td>01/04/2018</td>\n",
       "      <td>Complaint</td>\n",
       "      <td>Fail</td>\n",
       "      <td>24. DISH WASHING FACILITIES: PROPERLY DESIGNED...</td>\n",
       "      <td>41.949215</td>\n",
       "      <td>-87.648562</td>\n",
       "      <td>(41.949214874632226, -87.64856239438521)</td>\n",
       "    </tr>\n",
       "    <tr>\n",
       "      <th>13</th>\n",
       "      <td>2129953</td>\n",
       "      <td>JERK TACO MAN 1</td>\n",
       "      <td>JERK TACO MAN</td>\n",
       "      <td>2529063.0</td>\n",
       "      <td>Restaurant</td>\n",
       "      <td>Risk 1 (High)</td>\n",
       "      <td>4001 W JACKSON BLVD</td>\n",
       "      <td>CHICAGO</td>\n",
       "      <td>IL</td>\n",
       "      <td>60624.0</td>\n",
       "      <td>01/04/2018</td>\n",
       "      <td>Complaint</td>\n",
       "      <td>Fail</td>\n",
       "      <td>3. POTENTIALLY HAZARDOUS FOOD MEETS TEMPERATUR...</td>\n",
       "      <td>41.876976</td>\n",
       "      <td>-87.725666</td>\n",
       "      <td>(41.87697594883604, -87.72566593724505)</td>\n",
       "    </tr>\n",
       "    <tr>\n",
       "      <th>14</th>\n",
       "      <td>2129940</td>\n",
       "      <td>M. HENRY</td>\n",
       "      <td>M. HENRY</td>\n",
       "      <td>1960180.0</td>\n",
       "      <td>Restaurant</td>\n",
       "      <td>Risk 1 (High)</td>\n",
       "      <td>5705-5707 N CLARK ST</td>\n",
       "      <td>CHICAGO</td>\n",
       "      <td>IL</td>\n",
       "      <td>60660.0</td>\n",
       "      <td>01/04/2018</td>\n",
       "      <td>Complaint</td>\n",
       "      <td>Fail</td>\n",
       "      <td>3. POTENTIALLY HAZARDOUS FOOD MEETS TEMPERATUR...</td>\n",
       "      <td>41.985597</td>\n",
       "      <td>-87.669073</td>\n",
       "      <td>(41.98559673197454, -87.66907264871382)</td>\n",
       "    </tr>\n",
       "  </tbody>\n",
       "</table>\n",
       "</div>"
      ],
      "text/plain": [
       "    Inspection ID                DBA Name                 AKA Name  License #  \\\n",
       "2         2130044  EL MARIACHI RESTAURANT  EL MARIACHI BAR & GRILL  1574751.0   \n",
       "6         2130018                 FRESHII                  FRESHII  2446395.0   \n",
       "8         2129975       Panino's Pizzeria        Panino's Pizzeria  1517789.0   \n",
       "13        2129953         JERK TACO MAN 1            JERK TACO MAN  2529063.0   \n",
       "14        2129940                M. HENRY                 M. HENRY  1960180.0   \n",
       "\n",
       "   Facility Type           Risk                Address     City State  \\\n",
       "2     Restaurant  Risk 1 (High)  3906-3908 N BROADWAY   CHICAGO    IL   \n",
       "6     Restaurant  Risk 1 (High)     1166 W MADISON ST   CHICAGO    IL   \n",
       "8     Restaurant  Risk 1 (High)  3702-3704 N BROADWAY   CHICAGO    IL   \n",
       "13    Restaurant  Risk 1 (High)   4001 W JACKSON BLVD   CHICAGO    IL   \n",
       "14    Restaurant  Risk 1 (High)  5705-5707 N CLARK ST   CHICAGO    IL   \n",
       "\n",
       "        Zip Inspection Date Inspection Type Results  \\\n",
       "2   60613.0      01/05/2018       Complaint    Fail   \n",
       "6   60607.0      01/05/2018         Canvass    Fail   \n",
       "8   60613.0      01/04/2018       Complaint    Fail   \n",
       "13  60624.0      01/04/2018       Complaint    Fail   \n",
       "14  60660.0      01/04/2018       Complaint    Fail   \n",
       "\n",
       "                                           Violations   Latitude  Longitude  \\\n",
       "2   6. HANDS WASHED AND CLEANED, GOOD HYGIENIC PRA...  41.953007 -87.649810   \n",
       "6   9. WATER SOURCE: SAFE, HOT & COLD UNDER CITY P...  41.881731 -87.656851   \n",
       "8   24. DISH WASHING FACILITIES: PROPERLY DESIGNED...  41.949215 -87.648562   \n",
       "13  3. POTENTIALLY HAZARDOUS FOOD MEETS TEMPERATUR...  41.876976 -87.725666   \n",
       "14  3. POTENTIALLY HAZARDOUS FOOD MEETS TEMPERATUR...  41.985597 -87.669073   \n",
       "\n",
       "                                    Location  \n",
       "2    (41.95300691072745, -87.64981007663842)  \n",
       "6   (41.881731324473414, -87.65685079354886)  \n",
       "8   (41.949214874632226, -87.64856239438521)  \n",
       "13   (41.87697594883604, -87.72566593724505)  \n",
       "14   (41.98559673197454, -87.66907264871382)  "
      ]
     },
     "execution_count": 5,
     "metadata": {},
     "output_type": "execute_result"
    }
   ],
   "source": [
    "results = food_inspections.loc[food_inspections['Results'] == 'Fail']\n",
    "results[:5]"
   ]
  },
  {
   "cell_type": "code",
   "execution_count": 6,
   "metadata": {},
   "outputs": [
    {
     "data": {
      "text/plain": [
       "2     6. HANDS WASHED AND CLEANED, GOOD HYGIENIC PRA...\n",
       "6     9. WATER SOURCE: SAFE, HOT & COLD UNDER CITY P...\n",
       "8     24. DISH WASHING FACILITIES: PROPERLY DESIGNED...\n",
       "13    3. POTENTIALLY HAZARDOUS FOOD MEETS TEMPERATUR...\n",
       "14    3. POTENTIALLY HAZARDOUS FOOD MEETS TEMPERATUR...\n",
       "Name: Violations, dtype: object"
      ]
     },
     "execution_count": 6,
     "metadata": {},
     "output_type": "execute_result"
    }
   ],
   "source": [
    "violations = results.Violations.dropna()\n",
    "violations.head()"
   ]
  },
  {
   "cell_type": "code",
   "execution_count": 7,
   "metadata": {},
   "outputs": [
    {
     "data": {
      "text/plain": [
       "'6. HANDS WASHED AND CLEANED, GOOD HYGIENIC PRACTICES; NO BARE HAND CONTACT WITH READY-TO-EAT FOODS. - Comments: POOR HYGIENIC PRACTICES,OBSERVED EMPLOYEE GRABBING  WITH BARE HANDS AND BANDAGE ON HIS HAND,SLICED ONION TO STORE THEM INSIDE PLASTIC BAG AND WEIGH THEM, NO FOOD GLOVE USED. INSTRUCTED TO WASH HANDS AND USE FOOD GLOVES.\\nCRITICAL VIOLATION:7-38-010(A). | 8. SANITIZING RINSE FOR EQUIPMENT AND UTENSILS:  CLEAN, PROPER TEMPERATURE, CONCENTRATION, EXPOSURE TIME - Comments: LOW TEMP DISH MACHINE UNABLE TO DISPENSE SANITIZER AT FINAL RINSE,PRESENTLY 0ppm.UNIT IN USE,OBSERVED POTS INSIDE THE UNIT.INSTRUCTED TO USE THREE COMPARTMENT SINK. DISH MACHINE SERVICE ARRIVED DURING INSPECTION TO REPAIR. MACHINE DISPENSING 100 PPM AVAILABLE CHLORINE AFTER SERVICE.\\nCRITICAL VIOLATION:7-38-030. | 11. ADEQUATE NUMBER, CONVENIENT, ACCESSIBLE, DESIGNED, AND MAINTAINED - Comments: NO PAPER TOWELS PROVIDED AT EXPOSED HAND SINK IN BASEMENT PREP AREA BY THE LARGE ICE MACHINE ,PREP TABLE AND OPENED FOOD,MUST PROVIDE ALSO OBSERVED TOILET BOWL WITH FECES STAINS INSIDE THE BOWL AND AT TOILET BOWL RIM.INSTRUCTED TO CLEAN AND MAINTAIN. \\nCRITICAL VIOLATION:7-38-030 | 16. FOOD PROTECTED DURING STORAGE, PREPARATION, DISPLAY, SERVICE AND TRANSPORTATION - Comments: FOOD(ICE) NOT PROTECTED DURING STORAGE. WE OBSERVED BLACK SLIME SUBSTANCE ON WATER RESERVOIR WERE ICE IS MADE,INSIDE THE LARGE ICE MACHINE,INSTRUCTED TO CLEAN AND MAINTAIN.\\nFOUND DISH RACKS USED FOR DISHES,CUPS,POTS, GLASSES ETC., WITH EXCESS ENCRUSTED  BLACK SLIME ON UTENSIL CONTACT SURFACES. NEED TO REPLACE RACKS.\\nSERIOUS VIOLATION:7-38-005(A) | 38. VENTILATION: ROOMS AND EQUIPMENT VENTED AS REQUIRED: PLUMBING: INSTALLED AND MAINTAINED - Comments: STRONG, FOUL SEWAGE ODOR AT REAR BAR AREA AND BASEMENT PREP AREA,INSTRUCTED TO REPAIR OR ELIMINATE SOURCE OF ODOR.\\nMIDDLE  MECHANICAL DRAIN  IS LEAKING AT THREE COMPARTMENT SINK,NEED TO CLEAN AND MAINTAIN. POP GUN NOZZLE WITH MINERAL BUILD-UP,CLEAN AND MAINTAIN\\nNO COLD  WATER HANDLE PROVIDED AT FAUCET AT MOP SINK(BASEMENT). | 32. FOOD AND NON-FOOD CONTACT SURFACES PROPERLY DESIGNED, CONSTRUCTED AND MAINTAINED - Comments: COUNTER TOP BROKEN BY THE SMALL ICE BIN IN THE KITCHEN,REPLACE SURFACE MUST BE SMOOTH  AND CLEANABLE\\nEXCESS ICE BUILD-UP ON VENT CONDENSER,CLEAN AND MAINTAIN.\\nMISSING LID AT KITCHEN AREA ICE BIN. MUST PROVIDE LID. | 33. FOOD AND NON-FOOD CONTACT EQUIPMENT UTENSILS CLEAN, FREE OF ABRASIVE DETERGENTS - Comments: GREASE AND DUST BUILD UP ON WIRES ABOVE THE COLD UNIT,GREASE  INTERIOR AND EXTERIOR OF ALL COOKING EQUIPMENT IN THE KITCHEN. REMOVE EXCESS ICE BUILD-UP INSIDE THE REACH-IN FREEZER IN BASEMENT AND CHEST FREEZER IN THE KITCHEN. CLEAN DEBRIS ON SHELVES THROUGHOUT THE KITCHEN.\\nINTERIOR AND EXTERIOR SURFACES OF DISH MACHINE NOT CLEAN, ENCRUSTED WITH FOOD DEBRIS AND BLACK AND GRAY SLIME. MUST CLEAN AND MAINTAIN. | 34. FLOORS: CONSTRUCTED PER CODE, CLEANED, GOOD REPAIR, COVING INSTALLED, DUST-LESS CLEANING METHODS USED - Comments: BROKEN FLOOR TILES IN THE KITCHEN,NEED TO REPLACE,REPAIR REGROUT.SURFACE MUST BE SMOOTH,CLEANABLE AND NON-ABSORBENT SURFACE. NEED TO CLEAN FLOOR ALONG BASEBOARD WALLS  | 36. LIGHTING: REQUIRED MINIMUM FOOT-CANDLES OF LIGHT PROVIDED, FIXTURES SHIELDED - Comments: BURNED LIGHT BULBS IN THE KITCHEN DISH ROOMAND UNDER THE HOOD,REPLACE,ALSO GREASE ON LIGHT SHIELD UNDER HOOD,CLEAN AND MAINTAIN'"
      ]
     },
     "execution_count": 7,
     "metadata": {},
     "output_type": "execute_result"
    }
   ],
   "source": [
    "violations[2]"
   ]
  },
  {
   "cell_type": "code",
   "execution_count": 8,
   "metadata": {},
   "outputs": [],
   "source": [
    "comments = []\n",
    "def nlpGetReason(x):\n",
    "    for kvs in x.split(' | '):\n",
    "        comment = re.split(' - Comments: ', kvs)[1]\n",
    "        comment = re.sub(r'\\n\\w+ VIOLATION.*$', '', comment.strip())\n",
    "        comments.append(comment.strip())\n",
    "    return None"
   ]
  },
  {
   "cell_type": "code",
   "execution_count": 12,
   "metadata": {},
   "outputs": [],
   "source": [
    "raw = ' '.join(comments)"
   ]
  },
  {
   "cell_type": "code",
   "execution_count": 13,
   "metadata": {},
   "outputs": [],
   "source": [
    "violations.apply(nlpGetReason)\n",
    "words = nltk.tokenize.word_tokenize(raw)\n",
    "fdist = nltk.FreqDist(words)"
   ]
  },
  {
   "cell_type": "code",
   "execution_count": 14,
   "metadata": {},
   "outputs": [
    {
     "data": {
      "text/plain": [
       "[('.', 377790),\n",
       " (',', 254459),\n",
       " ('AND', 199196),\n",
       " ('THE', 151526),\n",
       " ('IN', 142867),\n",
       " ('TO', 110898),\n",
       " ('and', 92800),\n",
       " ('MUST', 85072),\n",
       " ('OF', 85066),\n",
       " ('AT', 71147)]"
      ]
     },
     "execution_count": 14,
     "metadata": {},
     "output_type": "execute_result"
    }
   ],
   "source": [
    "fdist.most_common(10)"
   ]
  },
  {
   "cell_type": "code",
   "execution_count": 15,
   "metadata": {},
   "outputs": [],
   "source": [
    "stopwords = set(nltk.corpus.stopwords.words('english'))\n",
    "\n",
    "words = [word for word in words if len(word) > 1]\n",
    "words = [word for word in words if not word.isnumeric()]\n",
    "words = [word for word in words if word.isalpha()]\n",
    "words = [word.lower() for word in words]\n",
    "words = [word for word in words if word not in stopwords]"
   ]
  },
  {
   "cell_type": "code",
   "execution_count": 16,
   "metadata": {},
   "outputs": [
    {
     "data": {
      "text/plain": [
       "[('must', 92954),\n",
       " ('clean', 76383),\n",
       " ('food', 74528),\n",
       " ('area', 61616),\n",
       " ('instructed', 55470),\n",
       " ('sink', 48815),\n",
       " ('prep', 48656),\n",
       " ('floor', 40889),\n",
       " ('repair', 39532),\n",
       " ('shall', 39503)]"
      ]
     },
     "execution_count": 16,
     "metadata": {},
     "output_type": "execute_result"
    }
   ],
   "source": [
    "fdist = nltk.FreqDist(words)\n",
    "fdist.most_common(10)"
   ]
  },
  {
   "cell_type": "code",
   "execution_count": 17,
   "metadata": {},
   "outputs": [],
   "source": [
    "wnl = nltk.WordNetLemmatizer()\n",
    "cleaned_words = [wnl.lemmatize(t) for t in words]"
   ]
  },
  {
   "cell_type": "code",
   "execution_count": 18,
   "metadata": {},
   "outputs": [],
   "source": [
    "bgs = [b for b in nltk.bigrams(cleaned_words)]\n",
    "tgs = [b for b in nltk.trigrams(cleaned_words)]"
   ]
  },
  {
   "cell_type": "code",
   "execution_count": 19,
   "metadata": {},
   "outputs": [
    {
     "data": {
      "text/plain": [
       "[(('prep', 'area'), 27598),\n",
       " (('compartment', 'sink'), 14933),\n",
       " (('citation', 'issued'), 13929),\n",
       " (('serious', 'violation'), 13864),\n",
       " (('must', 'clean'), 13099),\n",
       " (('clean', 'maintain'), 12792),\n",
       " (('pest', 'control'), 12770),\n",
       " (('must', 'provide'), 12248),\n",
       " (('detail', 'clean'), 12200),\n",
       " (('storage', 'area'), 11325)]"
      ]
     },
     "execution_count": 19,
     "metadata": {},
     "output_type": "execute_result"
    }
   ],
   "source": [
    "fdist_bgs = nltk.FreqDist(bgs)\n",
    "fdist_bgs.most_common(10)"
   ]
  },
  {
   "cell_type": "code",
   "execution_count": 20,
   "metadata": {},
   "outputs": [
    {
     "data": {
      "text/plain": [
       "[(('potentially', 'hazardous', 'food'), 9336),\n",
       " (('shall', 'good', 'repair'), 6047),\n",
       " (('exposed', 'hand', 'sink'), 5864),\n",
       " (('smooth', 'easily', 'cleanable'), 5334),\n",
       " (('three', 'compartment', 'sink'), 4702),\n",
       " (('previous', 'minor', 'violation'), 4653),\n",
       " (('serious', 'citation', 'issued'), 4265),\n",
       " (('food', 'prep', 'area'), 4203),\n",
       " (('kept', 'clean', 'good'), 4181),\n",
       " (('constructed', 'per', 'code'), 4122)]"
      ]
     },
     "execution_count": 20,
     "metadata": {},
     "output_type": "execute_result"
    }
   ],
   "source": [
    "fdist_tgs = nltk.FreqDist(tgs)\n",
    "fdist_tgs.most_common(10)"
   ]
  },
  {
   "cell_type": "code",
   "execution_count": 32,
   "metadata": {},
   "outputs": [
    {
     "data": {
      "text/plain": [
       "'29. PREVIOUS MINOR VIOLATION(S) CORRECTED 7-42-090 - Comments: PREVIOUS MINOR VIOLATIONS NOT CORRECTED FROM 08/04/17 REPORT#2071980. (32) OBSERVED RUSTY FOOD STORAGE SHELVING INSIDE WALK-IN COOLER. MUST REPAINT OR REPLACE SERIOUS VIOLATION. 7-42-090. | 12. HAND WASHING FACILITIES: WITH SOAP AND SANITARY HAND DRYING DEVICES, CONVENIENT AND ACCESSIBLE TO FOOD PREP AREA - Comments: OBSERVED EXPOSED HAND WASHING SINK NOT ACCESSIBLE IN FRONT PREP AREA. FOUND IN FRONT OF EXPOSED SINK A PREP TABLE AND EMPLOYEES CUTTING VEGETABLES AND PREPING FOOD. MANAGEMENT REQUIRED TO REMOVE PREP TABLE. MANAGER REMOVE PREP TABLE EXPOSED HAND SINK NOW IS AVAILABLE. CRITICAL VIOLATION 7-38-030 | 16. FOOD PROTECTED DURING STORAGE, PREPARATION, DISPLAY, SERVICE AND TRANSPORTATION - Comments: OBSERVED FOOD AND PREP AREAS NOT PROPERLY PROTECTED. OBSERVED ENTRY WAY TO THE FRONT PREP AREA FROM CUSTOMERS AREA WITH AN APPROXIMATE 8 FOOT WIDE OPENING. INSTRUCTED TO INSTALL A PERMANENT BARRIER OR GATE AND MAINTAIN. \\nMUST PROVIDE SNEEZE GUARD AT THE FRONT COFFEE STATION SERVICE AREA IN FRONT OF EXPRESO COFFEE MACHINE TO PREVENT FOOD FROM CONTAMINATION. SERIOUS VIOLATION 7-38-005(A). | 32. FOOD AND NON-FOOD CONTACT SURFACES PROPERLY DESIGNED, CONSTRUCTED AND MAINTAINED - Comments: ICE BEEN COVER NEEDED AT THE FRONT BAR AREA. MUST PROVIDE AND MAINTAIN. | 35. WALLS, CEILINGS, ATTACHED EQUIPMENT CONSTRUCTED PER CODE: GOOD REPAIR, SURFACES CLEAN AND DUST-LESS CLEANING METHODS - Comments: OBSERVED MISSING CEILING TILES ABOVE WALK-IN COOLER IN KITCHEN FOOD PREP AREA. MUST PROVIDE AND MAINTAIN. | 41. PREMISES MAINTAINED FREE OF LITTER, UNNECESSARY ARTICLES, CLEANING  EQUIPMENT PROPERLY STORED - Comments: OBSERVED ITEMS NOT ELEVATED 6INCHES OFF FLOOR UNDERNEATH 3-COMPARTMENT SINK. MUST ELEVATE AND MAINTAIN. | 36. LIGHTING: REQUIRED MINIMUM FOOT-CANDLES OF LIGHT PROVIDED, FIXTURES SHIELDED - Comments: LIGHT SHIELD MISSING ABOVE 3-COMPARTMENT IN RERA DISHWASHING AREA. MUST REPLACE AND MAINTAIN.'"
      ]
     },
     "execution_count": 32,
     "metadata": {},
     "output_type": "execute_result"
    }
   ],
   "source": [
    "violations = results.Violations.dropna()\n",
    "violations[300]"
   ]
  },
  {
   "cell_type": "code",
   "execution_count": 33,
   "metadata": {},
   "outputs": [],
   "source": [
    "vioNumbers = []\n",
    "def nlpGetNum(x):\n",
    "    for element in x.split(' | '):\n",
    "        string = re.split(' - Comments: ', element)[0]\n",
    "        string = re.findall(r'^\\d+', element)\n",
    "        vioNumbers.append(string)\n",
    "    return None"
   ]
  },
  {
   "cell_type": "code",
   "execution_count": 34,
   "metadata": {},
   "outputs": [
    {
     "data": {
      "text/plain": [
       "[['6'],\n",
       " ['8'],\n",
       " ['11'],\n",
       " ['16'],\n",
       " ['38'],\n",
       " ['32'],\n",
       " ['33'],\n",
       " ['34'],\n",
       " ['36'],\n",
       " ['9'],\n",
       " ['29'],\n",
       " ['32'],\n",
       " ['34'],\n",
       " ['24'],\n",
       " ['34'],\n",
       " ['32'],\n",
       " ['33'],\n",
       " ['3'],\n",
       " ['9'],\n",
       " ['18'],\n",
       " ['19'],\n",
       " ['33'],\n",
       " ['34'],\n",
       " ['35'],\n",
       " ['41'],\n",
       " ['32'],\n",
       " ['40'],\n",
       " ['43'],\n",
       " ['38'],\n",
       " ['3'],\n",
       " ['29'],\n",
       " ['30'],\n",
       " ['33'],\n",
       " ['41'],\n",
       " ['34'],\n",
       " ['42'],\n",
       " ['12'],\n",
       " ['38'],\n",
       " ['35'],\n",
       " ['13'],\n",
       " ['34'],\n",
       " ['21'],\n",
       " ['41'],\n",
       " ['18'],\n",
       " ['32'],\n",
       " ['38'],\n",
       " ['41'],\n",
       " ['43'],\n",
       " ['40'],\n",
       " ['30'],\n",
       " ['33'],\n",
       " ['38'],\n",
       " ['29'],\n",
       " ['3'],\n",
       " ['18'],\n",
       " ['35'],\n",
       " ['38'],\n",
       " ['43'],\n",
       " ['33'],\n",
       " ['30'],\n",
       " ['16'],\n",
       " ['21'],\n",
       " ['36'],\n",
       " ['34'],\n",
       " ['32'],\n",
       " ['35'],\n",
       " ['33'],\n",
       " ['29'],\n",
       " ['2'],\n",
       " ['3'],\n",
       " ['11'],\n",
       " ['31'],\n",
       " ['30'],\n",
       " ['35'],\n",
       " ['41'],\n",
       " ['13'],\n",
       " ['38'],\n",
       " ['41'],\n",
       " ['34'],\n",
       " ['32'],\n",
       " ['33'],\n",
       " ['35'],\n",
       " ['18'],\n",
       " ['35'],\n",
       " ['38'],\n",
       " ['41'],\n",
       " ['36'],\n",
       " ['34'],\n",
       " ['33'],\n",
       " ['21'],\n",
       " ['18'],\n",
       " ['29'],\n",
       " ['33'],\n",
       " ['35'],\n",
       " ['36'],\n",
       " ['43'],\n",
       " ['3'],\n",
       " ['18'],\n",
       " ['34'],\n",
       " ['35']]"
      ]
     },
     "execution_count": 34,
     "metadata": {},
     "output_type": "execute_result"
    }
   ],
   "source": [
    "violations.apply(nlpGetNum)\n",
    "vioNumbers[:100]"
   ]
  },
  {
   "cell_type": "code",
   "execution_count": 35,
   "metadata": {},
   "outputs": [],
   "source": [
    "lst = []\n",
    "def func(x):\n",
    "    for num in x:\n",
    "        lst.append(int(num[0]))\n",
    "\n",
    "func(vioNumbers)"
   ]
  },
  {
   "cell_type": "code",
   "execution_count": 36,
   "metadata": {},
   "outputs": [
    {
     "data": {
      "text/plain": [
       "Counter({1: 348,\n",
       "         2: 3545,\n",
       "         3: 3420,\n",
       "         4: 247,\n",
       "         5: 10,\n",
       "         6: 756,\n",
       "         7: 85,\n",
       "         8: 1299,\n",
       "         9: 1405,\n",
       "         10: 745,\n",
       "         11: 2787,\n",
       "         12: 1859,\n",
       "         13: 571,\n",
       "         14: 806,\n",
       "         16: 3489,\n",
       "         17: 55,\n",
       "         18: 16142,\n",
       "         19: 3818,\n",
       "         20: 110,\n",
       "         21: 4001,\n",
       "         22: 931,\n",
       "         23: 3,\n",
       "         24: 2965,\n",
       "         25: 124,\n",
       "         26: 1315,\n",
       "         27: 281,\n",
       "         28: 590,\n",
       "         29: 5334,\n",
       "         30: 4009,\n",
       "         31: 2642,\n",
       "         32: 14626,\n",
       "         33: 15979,\n",
       "         34: 18805,\n",
       "         35: 17614,\n",
       "         36: 7614,\n",
       "         37: 2639,\n",
       "         38: 15166,\n",
       "         39: 229,\n",
       "         40: 4630,\n",
       "         41: 10437,\n",
       "         42: 1647,\n",
       "         43: 2161,\n",
       "         44: 131,\n",
       "         45: 1794,\n",
       "         70: 421})"
      ]
     },
     "execution_count": 36,
     "metadata": {},
     "output_type": "execute_result"
    }
   ],
   "source": [
    "c = Counter(lst)\n",
    "c"
   ]
  },
  {
   "cell_type": "code",
   "execution_count": 37,
   "metadata": {},
   "outputs": [
    {
     "data": {
      "text/plain": [
       "[(34, 18805),\n",
       " (35, 17614),\n",
       " (18, 16142),\n",
       " (33, 15979),\n",
       " (38, 15166),\n",
       " (32, 14626),\n",
       " (41, 10437),\n",
       " (36, 7614),\n",
       " (29, 5334),\n",
       " (40, 4630)]"
      ]
     },
     "execution_count": 37,
     "metadata": {},
     "output_type": "execute_result"
    }
   ],
   "source": [
    "abc = c.most_common(10)\n",
    "abc"
   ]
  },
  {
   "cell_type": "code",
   "execution_count": 38,
   "metadata": {},
   "outputs": [],
   "source": [
    "x_val = [x[0] for x in abc]\n",
    "y_val = [y[1] for y in abc]"
   ]
  },
  {
   "cell_type": "code",
   "execution_count": 39,
   "metadata": {},
   "outputs": [
    {
     "data": {
      "image/png": "[encoded data removed]",
      "text/plain": [
       "<matplotlib.figure.Figure at 0x183752f5828>"
      ]
     },
     "metadata": {},
     "output_type": "display_data"
    }
   ],
   "source": [
    "plt.bar(range(10), y_val)\n",
    "plt.xticks(range(10), x_val)\n",
    "plt.show()"
   ]
  },
  {
   "cell_type": "code",
   "execution_count": null,
   "metadata": {},
   "outputs": [],
   "source": []
  }
 ],
 "metadata": {
  "kernelspec": {
   "display_name": "Python 3",
   "language": "python",
   "name": "python3"
  },
  "language_info": {
   "codemirror_mode": {
    "name": "ipython",
    "version": 3
   },
   "file_extension": ".py",
   "mimetype": "text/x-python",
   "name": "python",
   "nbconvert_exporter": "python",
   "pygments_lexer": "ipython3",
   "version": "3.6.4"
  }
 },
 "nbformat": 4,
 "nbformat_minor": 2
}
